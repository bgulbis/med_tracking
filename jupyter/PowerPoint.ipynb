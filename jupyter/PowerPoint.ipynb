{
 "cells": [
  {
   "cell_type": "code",
   "execution_count": 1,
   "metadata": {},
   "outputs": [],
   "source": [
    "from pptx import Presentation\n",
    "from pptx.chart.data import CategoryChartData\n",
    "from pptx.enum.chart import XL_CHART_TYPE\n",
    "from pptx.util import Inches\n",
    "from pptx.enum.chart import XL_TICK_MARK\n",
    "from pptx.util import Pt\n",
    "from pptx.enum.chart import XL_LEGEND_POSITION\n",
    "from pptx.enum.dml import MSO_LINE\n",
    "from pptx.enum.chart import XL_MARKER_STYLE\n",
    "from pptx.enum.chart import XL_LABEL_POSITION\n",
    "from pptx.dml.color import RGBColor\n",
    "from datetime import datetime\n",
    "import pandas as pd"
   ]
  },
  {
   "cell_type": "code",
   "execution_count": 2,
   "metadata": {},
   "outputs": [],
   "source": [
    "prs = Presentation()\n",
    "title_slide_layout = prs.slide_layouts[0]\n",
    "slide = prs.slides.add_slide(title_slide_layout)\n",
    "title = slide.shapes.title\n",
    "subtitle = slide.placeholders[1]\n",
    "\n",
    "title.text = \"Hello, World!\"\n",
    "subtitle.text = \"python-pptx was here!\""
   ]
  },
  {
   "cell_type": "code",
   "execution_count": 3,
   "metadata": {},
   "outputs": [],
   "source": [
    "bullet_slide_layout = prs.slide_layouts[1]\n",
    "\n",
    "slide = prs.slides.add_slide(bullet_slide_layout)\n",
    "shapes = slide.shapes\n",
    "\n",
    "title_shape = shapes.title\n",
    "body_shape = shapes.placeholders[1]\n",
    "\n",
    "title_shape.text = 'Adding a Bullet Slide'\n",
    "\n",
    "tf = body_shape.text_frame\n",
    "tf.text = 'Find the bullet slide layout'\n",
    "\n",
    "p = tf.add_paragraph()\n",
    "p.text = 'Use _TextFrame.text for first bullet'\n",
    "p.level = 1\n",
    "\n",
    "p = tf.add_paragraph()\n",
    "p.text = 'Use _TextFrame.add_paragraph() for subsequent bullets'\n",
    "p.level = 2\n",
    "\n"
   ]
  },
  {
   "cell_type": "code",
   "execution_count": 4,
   "metadata": {},
   "outputs": [],
   "source": [
    "title_only_slide_layout = prs.slide_layouts[5]\n",
    "slide = prs.slides.add_slide(title_only_slide_layout)\n",
    "shapes = slide.shapes\n",
    "\n",
    "shapes.title.text = 'Adding a Table'\n",
    "\n",
    "rows = cols = 2\n",
    "left = top = Inches(2.0)\n",
    "width = Inches(6.0)\n",
    "height = Inches(0.8)\n",
    "\n",
    "table = shapes.add_table(rows, cols, left, top, width, height).table\n",
    "\n",
    "# set column widths\n",
    "table.columns[0].width = Inches(2.0)\n",
    "table.columns[1].width = Inches(4.0)\n",
    "\n",
    "# write column headings\n",
    "table.cell(0, 0).text = 'Foo'\n",
    "table.cell(0, 1).text = 'Bar'\n",
    "\n",
    "# write body cells\n",
    "table.cell(1, 0).text = 'Baz'\n",
    "table.cell(1, 1).text = 'Qux'\n"
   ]
  },
  {
   "cell_type": "code",
   "execution_count": 5,
   "metadata": {},
   "outputs": [
    {
     "data": {
      "text/plain": [
       "<pptx.shapes.graphfrm.GraphicFrame at 0x20cdc445f98>"
      ]
     },
     "execution_count": 5,
     "metadata": {},
     "output_type": "execute_result"
    }
   ],
   "source": [
    "slide = prs.slides.add_slide(title_only_slide_layout)\n",
    "# define chart data ---------------------\n",
    "chart_data = CategoryChartData()\n",
    "chart_data.categories = ['East', 'West', 'Midwest']\n",
    "chart_data.add_series('Series 1', (19.2, 21.4, 16.7))\n",
    "# add chart to slide --------------------\n",
    "x, y, cx, cy = Inches(2), Inches(2), Inches(6), Inches(4.5)\n",
    "slide.shapes.add_chart(\n",
    "    XL_CHART_TYPE.COLUMN_CLUSTERED, x, y, cx, cy, chart_data\n",
    ")"
   ]
  },
  {
   "cell_type": "code",
   "execution_count": 6,
   "metadata": {},
   "outputs": [],
   "source": [
    "slide = prs.slides.add_slide(title_only_slide_layout)\n",
    "chart_data = CategoryChartData()\n",
    "chart_data.categories = ['East', 'West', 'Midwest']\n",
    "chart_data.add_series('Q1 Sales', (19.2, 21.4, 16.7))\n",
    "chart_data.add_series('Q2 Sales', (22.3, 28.6, 15.2))\n",
    "chart_data.add_series('Q3 Sales', (20.4, 26.3, 14.2))\n",
    "\n",
    "#slide.shapes.add_chart(XL_CHART_TYPE.COLUMN_CLUSTERED, x, y, cx, cy, chart_data)\n",
    "graphic_frame = slide.shapes.add_chart(XL_CHART_TYPE.COLUMN_CLUSTERED, x, y, cx, cy, chart_data)\n",
    "chart = graphic_frame.chart"
   ]
  },
  {
   "cell_type": "code",
   "execution_count": 7,
   "metadata": {},
   "outputs": [],
   "source": [
    "category_axis = chart.category_axis\n",
    "category_axis.has_major_gridlines = False\n",
    "category_axis.major_tick_mark = XL_TICK_MARK.NONE\n",
    "category_axis.minor_tick_mark = XL_TICK_MARK.NONE\n",
    "#category_axis.minor_tick_mark = XL_TICK_MARK.OUTSIDE\n",
    "category_axis.tick_labels.font.italic = True\n",
    "category_axis.tick_labels.font.size = Pt(24)\n",
    "\n",
    "value_axis = chart.value_axis\n",
    "value_axis.maximum_scale = 100.0\n",
    "value_axis.minor_tick_mark = XL_TICK_MARK.NONE\n",
    "value_axis.has_major_gridlines = False\n",
    "value_axis.has_minor_gridlines = False\n",
    "\n",
    "tick_labels = value_axis.tick_labels\n",
    "tick_labels.number_format = '0\"%\"'\n",
    "tick_labels.font.bold = True\n",
    "tick_labels.font.size = Pt(14)"
   ]
  },
  {
   "cell_type": "code",
   "execution_count": 8,
   "metadata": {},
   "outputs": [],
   "source": [
    "blank_slide_layout = prs.slide_layouts[6]\n",
    "slide = prs.slides.add_slide(blank_slide_layout)\n",
    "\n",
    "chart_data = CategoryChartData()\n",
    "#chart_data.categories = ['Q1 Sales', 'Q2 Sales', 'Q3 Sales']\n",
    "\n",
    "date1 = '2017-07-01'\n",
    "date2 = '2017-12-01'\n",
    "chart_data.categories = pd.date_range(date1, date2, freq=\"MS\").tolist()\n",
    "\n",
    "#chart_data.categories = [datetime.strptime('2017-07-01', '%Y-%m-%d'), datetime.strptime('2017-08-01', '%Y-%m-%d'), datetime.strptime('2017-09-01', '%Y-%m-%d')]\n",
    "\n",
    "chart_data.add_series('West',    (32.2, 28.4, 34.7))\n",
    "chart_data.add_series('East',    (24.3, 30.6, 20.2))\n",
    "chart_data.add_series('Midwest', (None, None, None, 20.4, 18.3, 26.2))\n",
    "\n",
    "x, y, cx, cy = Inches(1), Inches(1), Inches(8), Inches(6)\n",
    "chart = slide.shapes.add_chart(XL_CHART_TYPE.LINE, x, y, cx, cy, chart_data).chart\n",
    "\n",
    "category_axis = chart.category_axis\n",
    "category_axis.has_title = True\n",
    "category_axis.axis_title.text_frame.text = \"Month\"\n",
    "\n",
    "value_axis = chart.value_axis\n",
    "value_axis.has_major_gridlines = False\n",
    "value_axis.has_minor_gridlines = False\n",
    "\n",
    "chart.has_legend = True\n",
    "chart.legend.include_in_layout = False\n",
    "chart.legend.position = XL_LEGEND_POSITION.TOP\n",
    "\n",
    "chart.series[0].smooth = True\n",
    "\n",
    "chart.series[1].format.line.dash_style = MSO_LINE.DASH\n",
    "chart.series[1].format.line.width = Pt(1.5)\n",
    "\n",
    "i = len(chart.series[-1].points) - 1\n",
    "chart.series[-1].points[i]\n",
    "\n",
    "chart.series[-1].points[i].marker.style = XL_MARKER_STYLE.CIRCLE\n",
    "chart.series[-1].points[i].marker.format.fill.solid()\n",
    "chart.series[-1].points[i].marker.format.fill.fore_color.rgb = RGBColor.from_string(\"FFFFFF\")\n",
    "chart.series[-1].points[i].marker.format.line.width = Pt(1.5)\n",
    "chart.series[-1].points[i].data_label.has_text_frame = True\n",
    "chart.series[-1].points[i].data_label.position = XL_LABEL_POSITION.BELOW\n",
    "chart.series[-1].points[i].data_label.text_frame.text = str(round(chart.series[-1].values[-1], None))\n"
   ]
  },
  {
   "cell_type": "code",
   "execution_count": 9,
   "metadata": {},
   "outputs": [],
   "source": [
    "#i = len(chart.series[-1].points) - 1\n",
    "#chart.series[-1].points[i]\n",
    "#pd.date_range(date1, date2, freq=\"MS\").tolist()"
   ]
  },
  {
   "cell_type": "code",
   "execution_count": 10,
   "metadata": {},
   "outputs": [],
   "source": [
    "prs.save('../doc/test.pptx')"
   ]
  },
  {
   "cell_type": "code",
   "execution_count": null,
   "metadata": {},
   "outputs": [],
   "source": []
  }
 ],
 "metadata": {
  "kernelspec": {
   "display_name": "forecast",
   "language": "python",
   "name": "forecast"
  },
  "language_info": {
   "codemirror_mode": {
    "name": "ipython",
    "version": 3
   },
   "file_extension": ".py",
   "mimetype": "text/x-python",
   "name": "python",
   "nbconvert_exporter": "python",
   "pygments_lexer": "ipython3",
   "version": "3.7.3"
  }
 },
 "nbformat": 4,
 "nbformat_minor": 2
}
