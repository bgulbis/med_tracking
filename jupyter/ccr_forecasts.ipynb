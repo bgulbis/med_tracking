{
 "cells": [
  {
   "cell_type": "code",
   "execution_count": 2,
   "metadata": {},
   "outputs": [],
   "source": [
    "from os import listdir\n",
    "import glob\n",
    "import pandas as pd\n",
    "import numpy as np"
   ]
  },
  {
   "cell_type": "code",
   "execution_count": 3,
   "metadata": {},
   "outputs": [
    {
     "name": "stderr",
     "output_type": "stream",
     "text": [
      "/home/brian/anaconda3/envs/pptx/lib/python3.7/site-packages/ipykernel_launcher.py:2: FutureWarning: Sorting because non-concatenation axis is not aligned. A future version\n",
      "of pandas will change to not sort by default.\n",
      "\n",
      "To accept the future behavior, pass 'sort=False'.\n",
      "\n",
      "To retain the current behavior and silence the warning, pass 'sort=True'.\n",
      "\n",
      "  \n"
     ]
    }
   ],
   "source": [
    "filepaths = glob.glob(\"../data/tidy/acetaminophen/*_events_*.csv\")\n",
    "df = pd.concat(map(pd.read_csv, filepaths))\n",
    "df[\"CLINICAL_EVENT_DATETIME\"] = pd.to_datetime(df[\"CLINICAL_EVENT_DATETIME\"])\n",
    "df.index = df[\"CLINICAL_EVENT_DATETIME\"]"
   ]
  },
  {
   "cell_type": "code",
   "execution_count": 60,
   "metadata": {},
   "outputs": [],
   "source": [
    "df_monthly = df.resample(\"MS\").count()[[\"EVENT_ID\"]]\n",
    "df_monthly.columns = [\"Actual\"]"
   ]
  },
  {
   "cell_type": "code",
   "execution_count": 61,
   "metadata": {},
   "outputs": [],
   "source": [
    "from statsmodels.tsa.arima_model import ARIMA, ARIMAResults\n",
    "from pmdarima import auto_arima"
   ]
  },
  {
   "cell_type": "code",
   "execution_count": 62,
   "metadata": {},
   "outputs": [],
   "source": [
    "auto_mod = auto_arima(\n",
    "    df_monthly[\"Actual\"], \n",
    "    suppress_warnings=True,\n",
    "    seasonal=False,\n",
    "    stepwise=False,\n",
    "    error_action=\"ignore\"\n",
    ")"
   ]
  },
  {
   "cell_type": "code",
   "execution_count": 63,
   "metadata": {},
   "outputs": [],
   "source": [
    "model_arima = ARIMA(df_monthly[\"Actual\"], order=auto_mod.order)\n",
    "fit_arima = model_arima.fit()"
   ]
  },
  {
   "cell_type": "code",
   "execution_count": 64,
   "metadata": {},
   "outputs": [
    {
     "name": "stderr",
     "output_type": "stream",
     "text": [
      "/home/brian/anaconda3/envs/pptx/lib/python3.7/site-packages/ipykernel_launcher.py:3: FutureWarning: Addition/subtraction of integers and integer-arrays to Timestamp is deprecated, will be removed in a future version.  Instead of adding/subtracting `n`, use `n * self.freq`\n",
      "  This is separate from the ipykernel package so we can avoid doing imports until\n"
     ]
    }
   ],
   "source": [
    "n_pred = 12\n",
    "fc, se, conf = fit_arima.forecast(n_pred, alpha=0.05)  # 95% conf\n",
    "idx = pd.date_range(df_monthly.index[-1] + 1, periods = n_pred, freq=\"MS\")\n",
    "fc_series = pd.Series(fc, index=idx)\n",
    "lower_series = pd.Series(conf[:, 0], index=idx)\n",
    "upper_series = pd.Series(conf[:, 1], index=idx)"
   ]
  },
  {
   "cell_type": "code",
   "execution_count": 142,
   "metadata": {},
   "outputs": [],
   "source": [
    "df_forecast = pd.DataFrame(fc.round(0), index=idx, columns=[\"Forecast\"])\n",
    "df_forecast.index.name = \"CLINICAL_EVENT_DATETIME\""
   ]
  },
  {
   "cell_type": "code",
   "execution_count": 167,
   "metadata": {},
   "outputs": [
    {
     "name": "stderr",
     "output_type": "stream",
     "text": [
      "/home/brian/anaconda3/envs/pptx/lib/python3.7/site-packages/ipykernel_launcher.py:1: FutureWarning: Sorting because non-concatenation axis is not aligned. A future version\n",
      "of pandas will change to not sort by default.\n",
      "\n",
      "To accept the future behavior, pass 'sort=False'.\n",
      "\n",
      "To retain the current behavior and silence the warning, pass 'sort=True'.\n",
      "\n",
      "  \"\"\"Entry point for launching an IPython kernel.\n"
     ]
    }
   ],
   "source": [
    "df_combined = pd.concat([df_monthly, df_forecast]).replace({pd.np.nan: None})"
   ]
  },
  {
   "cell_type": "code",
   "execution_count": 168,
   "metadata": {},
   "outputs": [],
   "source": [
    "from pptx import Presentation \n",
    "from pptx.chart.data import CategoryChartData\n",
    "from pptx.dml.color import RGBColor\n",
    "from pptx.enum.chart import XL_CHART_TYPE, XL_LEGEND_POSITION, XL_DATA_LABEL_POSITION, XL_MARKER_STYLE, XL_TICK_MARK\n",
    "from pptx.enum.dml import MSO_LINE_DASH_STYLE\n",
    "from pptx.util import Inches, Pt"
   ]
  },
  {
   "cell_type": "code",
   "execution_count": 169,
   "metadata": {},
   "outputs": [],
   "source": [
    "prs = Presentation()\n",
    "# title slide\n",
    "title_slide_layout = prs.slide_layouts[0]\n",
    "slide = prs.slides.add_slide(title_slide_layout)\n",
    "title = slide.shapes.title\n",
    "subtitle = slide.placeholders[1]\n",
    "\n",
    "title.text = \"Test Forecast Slides\"\n",
    "subtitle.text = \"Updated: Some Date\""
   ]
  },
  {
   "cell_type": "code",
   "execution_count": 170,
   "metadata": {},
   "outputs": [
    {
     "data": {
      "text/plain": [
       "<pptx.chart.data.CategorySeriesData at 0x7f03d427d668>"
      ]
     },
     "execution_count": 170,
     "metadata": {},
     "output_type": "execute_result"
    }
   ],
   "source": [
    "# forecast slide\n",
    "blank_slide_layout = prs.slide_layouts[6]\n",
    "slide = prs.slides.add_slide(blank_slide_layout)\n",
    "\n",
    "chart_data = CategoryChartData()\n",
    "chart_data.categories = df_combined.index\n",
    "chart_data.add_series(\"Actual\", df_combined[\"Actual\"])\n",
    "chart_data.add_series(\"Forecast\", df_combined[\"Forecast\"])"
   ]
  },
  {
   "cell_type": "code",
   "execution_count": 171,
   "metadata": {},
   "outputs": [],
   "source": [
    "# format graph\n",
    "x, y, cx, cy = Inches(1), Inches(1), Inches(8), Inches(6)\n",
    "chart = slide.shapes.add_chart(XL_CHART_TYPE.LINE, x, y, cx, cy, chart_data).chart\n",
    "\n",
    "category_axis = chart.category_axis\n",
    "category_axis.has_title = True\n",
    "category_axis.axis_title.text_frame.text = \"Month\"\n",
    "\n",
    "value_axis = chart.value_axis\n",
    "value_axis.has_major_gridlines = False\n",
    "value_axis.has_minor_gridlines = False\n",
    "\n",
    "chart.has_legend = True\n",
    "chart.legend.include_in_layout = False\n",
    "chart.legend.position = XL_LEGEND_POSITION.TOP\n",
    "\n",
    "# chart.series[0].smooth = True\n",
    "\n",
    "chart.series[1].format.line.dash_style = MSO_LINE_DASH_STYLE.DASH\n",
    "chart.series[1].format.line.width = Pt(1.5)\n",
    "\n",
    "i = len(chart.series[-1].points) - 1\n",
    "chart.series[-1].points[i]\n",
    "\n",
    "chart.series[-1].points[i].marker.style = XL_MARKER_STYLE.CIRCLE\n",
    "chart.series[-1].points[i].marker.format.fill.solid()\n",
    "chart.series[-1].points[i].marker.format.fill.fore_color.rgb = RGBColor.from_string(\"FFFFFF\")\n",
    "chart.series[-1].points[i].marker.format.line.width = Pt(1.5)\n",
    "chart.series[-1].points[i].data_label.has_text_frame = True\n",
    "chart.series[-1].points[i].data_label.position = XL_DATA_LABEL_POSITION.BELOW\n",
    "chart.series[-1].points[i].data_label.text_frame.text = str(round(chart.series[-1].values[-1], None))"
   ]
  },
  {
   "cell_type": "code",
   "execution_count": 172,
   "metadata": {},
   "outputs": [],
   "source": [
    "prs.save('../doc/forecast.pptx')"
   ]
  },
  {
   "cell_type": "code",
   "execution_count": null,
   "metadata": {},
   "outputs": [],
   "source": []
  }
 ],
 "metadata": {
  "kernelspec": {
   "display_name": "pptx",
   "language": "python",
   "name": "pptx"
  },
  "language_info": {
   "codemirror_mode": {
    "name": "ipython",
    "version": 3
   },
   "file_extension": ".py",
   "mimetype": "text/x-python",
   "name": "python",
   "nbconvert_exporter": "python",
   "pygments_lexer": "ipython3",
   "version": "3.7.3"
  }
 },
 "nbformat": 4,
 "nbformat_minor": 2
}
