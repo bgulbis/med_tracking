{
 "cells": [
  {
   "cell_type": "code",
   "execution_count": 1,
   "metadata": {},
   "outputs": [],
   "source": [
    "from os import listdir\n",
    "import glob\n",
    "import pandas as pd\n",
    "import numpy as np\n",
    "from datetime import datetime"
   ]
  },
  {
   "cell_type": "code",
   "execution_count": 2,
   "metadata": {},
   "outputs": [
    {
     "name": "stderr",
     "output_type": "stream",
     "text": [
      "/home/brian/miniconda3/envs/med_tracking/lib/python3.7/site-packages/ipykernel_launcher.py:2: FutureWarning: Sorting because non-concatenation axis is not aligned. A future version\n",
      "of pandas will change to not sort by default.\n",
      "\n",
      "To accept the future behavior, pass 'sort=False'.\n",
      "\n",
      "To retain the current behavior and silence the warning, pass 'sort=True'.\n",
      "\n",
      "  \n"
     ]
    }
   ],
   "source": [
    "filepaths = glob.glob(\"../data/tidy/acetaminophen/*_events_*.csv\")\n",
    "df = pd.concat(map(pd.read_csv, filepaths))\n",
    "df[\"CLINICAL_EVENT_DATETIME\"] = pd.to_datetime(df[\"CLINICAL_EVENT_DATETIME\"])\n",
    "df.index = df[\"CLINICAL_EVENT_DATETIME\"]"
   ]
  },
  {
   "cell_type": "code",
   "execution_count": 3,
   "metadata": {},
   "outputs": [],
   "source": [
    "df_monthly = df.resample(\"MS\").count()[[\"EVENT_ID\"]]\n",
    "df_monthly.columns = [\"Actual\"]\n",
    "\n",
    "# remove current month\n",
    "df_monthly = df_monthly[df_monthly.index < datetime.now().strftime('%Y-%m-01')]"
   ]
  },
  {
   "cell_type": "code",
   "execution_count": 4,
   "metadata": {},
   "outputs": [],
   "source": [
    "from statsmodels.tsa.arima_model import ARIMA, ARIMAResults\n",
    "from pmdarima import auto_arima"
   ]
  },
  {
   "cell_type": "code",
   "execution_count": 5,
   "metadata": {},
   "outputs": [],
   "source": [
    "auto_mod = auto_arima(\n",
    "    df_monthly[\"Actual\"], \n",
    "    suppress_warnings=True,\n",
    "    seasonal=False,\n",
    "    stepwise=False,\n",
    "    error_action=\"ignore\"\n",
    ")"
   ]
  },
  {
   "cell_type": "code",
   "execution_count": 6,
   "metadata": {},
   "outputs": [],
   "source": [
    "model_arima = ARIMA(df_monthly[\"Actual\"], order=auto_mod.order)\n",
    "fit_arima = model_arima.fit()"
   ]
  },
  {
   "cell_type": "code",
   "execution_count": 7,
   "metadata": {},
   "outputs": [
    {
     "name": "stderr",
     "output_type": "stream",
     "text": [
      "/home/brian/miniconda3/envs/med_tracking/lib/python3.7/site-packages/ipykernel_launcher.py:3: FutureWarning: Addition/subtraction of integers and integer-arrays to Timestamp is deprecated, will be removed in a future version.  Instead of adding/subtracting `n`, use `n * self.freq`\n",
      "  This is separate from the ipykernel package so we can avoid doing imports until\n"
     ]
    }
   ],
   "source": [
    "n_pred = 12\n",
    "fc, se, conf = fit_arima.forecast(n_pred, alpha=0.05)  # 95% conf\n",
    "idx = pd.date_range(df_monthly.index[-1] + 1, periods = n_pred, freq=\"MS\")\n",
    "fc_series = pd.Series(fc, index=idx)\n",
    "lower_series = pd.Series(conf[:, 0], index=idx)\n",
    "upper_series = pd.Series(conf[:, 1], index=idx)"
   ]
  },
  {
   "cell_type": "code",
   "execution_count": 8,
   "metadata": {},
   "outputs": [],
   "source": [
    "df_forecast = pd.DataFrame(fc.round(0), index=idx, columns=[\"Forecast\"])\n",
    "df_forecast.index.name = \"CLINICAL_EVENT_DATETIME\""
   ]
  },
  {
   "cell_type": "code",
   "execution_count": 9,
   "metadata": {},
   "outputs": [
    {
     "name": "stderr",
     "output_type": "stream",
     "text": [
      "/home/brian/miniconda3/envs/med_tracking/lib/python3.7/site-packages/ipykernel_launcher.py:1: FutureWarning: Sorting because non-concatenation axis is not aligned. A future version\n",
      "of pandas will change to not sort by default.\n",
      "\n",
      "To accept the future behavior, pass 'sort=False'.\n",
      "\n",
      "To retain the current behavior and silence the warning, pass 'sort=True'.\n",
      "\n",
      "  \"\"\"Entry point for launching an IPython kernel.\n"
     ]
    }
   ],
   "source": [
    "df_combined = pd.concat([df_monthly, df_forecast]).replace({pd.np.nan: None})"
   ]
  },
  {
   "cell_type": "code",
   "execution_count": 27,
   "metadata": {},
   "outputs": [],
   "source": [
    "from pptx import Presentation \n",
    "from pptx.chart.data import CategoryChartData\n",
    "from pptx.dml.color import RGBColor\n",
    "from pptx.enum.chart import XL_CHART_TYPE, XL_LEGEND_POSITION, XL_DATA_LABEL_POSITION, XL_MARKER_STYLE, XL_TICK_MARK\n",
    "from pptx.enum.dml import MSO_LINE_DASH_STYLE, MSO_THEME_COLOR\n",
    "from pptx.util import Inches, Pt"
   ]
  },
  {
   "cell_type": "code",
   "execution_count": 75,
   "metadata": {},
   "outputs": [],
   "source": [
    "prs = Presentation()\n",
    "# title slide\n",
    "title_slide_layout = prs.slide_layouts[0]\n",
    "slide = prs.slides.add_slide(title_slide_layout)\n",
    "title = slide.shapes.title\n",
    "subtitle = slide.placeholders[1]\n",
    "\n",
    "title.text = \"Test Forecast Slides\"\n",
    "subtitle.text = \"Updated: Some Date\""
   ]
  },
  {
   "cell_type": "code",
   "execution_count": 76,
   "metadata": {},
   "outputs": [],
   "source": [
    "# forecast slide\n",
    "blank_slide_layout = prs.slide_layouts[6]\n",
    "slide = prs.slides.add_slide(blank_slide_layout)\n",
    "\n",
    "chart_data = CategoryChartData()\n",
    "chart_data.categories = df_combined.index\n",
    "chart_data.add_series(\"Actual\", df_combined[\"Actual\"])\n",
    "chart_data.add_series(\"Forecast\", df_combined[\"Forecast\"])\n",
    "\n",
    "x, y, cx, cy = Inches(1), Inches(1), Inches(8), Inches(6)\n",
    "chart = slide.shapes.add_chart(XL_CHART_TYPE.LINE, x, y, cx, cy, chart_data).chart\n"
   ]
  },
  {
   "cell_type": "code",
   "execution_count": 77,
   "metadata": {},
   "outputs": [],
   "source": [
    "font_nm = \"Arial\"\n",
    "ax_bright = 0.35\n",
    "\n",
    "def format_axis(axis):\n",
    "    axis.format.line.color.theme_color = MSO_THEME_COLOR.TEXT_1\n",
    "    axis.format.line.color.brightness = ax_bright\n",
    "    return axis\n",
    "\n",
    "def format_axis_title(axis, title_text, has_title = True):\n",
    "    axis.has_title = True\n",
    "    axis.axis_title.text_frame.text = title_text\n",
    "    axis.axis_title.text_frame.paragraphs[0].font.name = font_nm\n",
    "    axis.axis_title.text_frame.paragraphs[0].font.size = Pt(18)\n",
    "    axis.axis_title.text_frame.paragraphs[0].font.bold = False\n",
    "    axis.axis_title.text_frame.paragraphs[0].font.color.theme_color = MSO_THEME_COLOR.TEXT_1\n",
    "    axis.axis_title.text_frame.paragraphs[0].font.color.brightness = ax_bright\n",
    "    return axis\n",
    "\n",
    "def format_axis_tick_labels(axis):\n",
    "    axis.tick_labels.font.name = \"Arial\"\n",
    "    axis.tick_labels.font.size = Pt(16)\n",
    "    axis.tick_labels.font_bold = False\n",
    "    axis.tick_labels.font.color.theme_color = MSO_THEME_COLOR.TEXT_1\n",
    "    axis.tick_labels.font.color.brightness = ax_bright\n",
    "    return axis\n",
    "\n",
    "def format_marker(chart, i, j, col_mark, col_line):\n",
    "    chart.series[i].points[j].marker.style = XL_MARKER_STYLE.CIRCLE\n",
    "    chart.series[i].points[j].marker.format.fill.solid()\n",
    "    chart.series[i].points[j].marker.format.fill.fore_color.rgb = col_mark\n",
    "    chart.series[i].points[j].marker.format.line.width = Pt(2.25)\n",
    "    chart.series[i].points[j].marker.format.line.color.rgb = col_line\n",
    "    chart.series[i].points[j].data_label.has_text_frame = True\n",
    "    chart.series[i].points[j].data_label.position = XL_DATA_LABEL_POSITION.BELOW\n",
    "    chart.series[i].points[j].data_label.text_frame.text = str(round(chart.series[i].values[j], None))\n",
    "    return chart\n",
    "    \n",
    "\n",
    "def format_graph(chart):\n",
    "    category_axis = format_axis_title(chart.category_axis, \"Month\")\n",
    "    category_axis = format_axis_tick_labels(category_axis)\n",
    "    category_axis = format_axis(category_axis)\n",
    "    category_axis.tick_labels.number_format = \"mmm yy\"\n",
    "\n",
    "    value_axis = format_axis_title(chart.value_axis, \"Number of doses\")\n",
    "    value_axis = format_axis_tick_labels(value_axis)\n",
    "    value_axis = format_axis(value_axis)\n",
    "    value_axis.has_major_gridlines = False\n",
    "    value_axis.has_minor_gridlines = False\n",
    "\n",
    "    chart.has_title = True\n",
    "    chart.chart_title.text_frame.text = \"Acetaminophen IV forecast\"\n",
    "    chart.chart_title.text_frame.paragraphs[0].font.name = font_nm\n",
    "    chart.chart_title.text_frame.paragraphs[0].font.size = Pt(24)\n",
    "    chart.chart_title.text_frame.paragraphs[0].font.bold = False\n",
    "    chart.chart_title.text_frame.paragraphs[0].font.color.theme_color = MSO_THEME_COLOR.TEXT_1\n",
    "    chart.chart_title.text_frame.paragraphs[0].font.color.brightness = 0.25\n",
    "\n",
    "    chart.has_legend = False\n",
    "    # chart.legend.include_in_layout = False\n",
    "    # chart.legend.position = XL_LEGEND_POSITION.TOP\n",
    "\n",
    "    # format Actual line\n",
    "    col_actual = RGBColor.from_string(\"1f78b4\")\n",
    "    chart.series[0].format.line.width = Pt(3.5)\n",
    "    chart.series[0].format.line.color.rgb = col_actual\n",
    "    # chart.series[0].smooth = True\n",
    "\n",
    "    i = len(df_monthly) - 1\n",
    "    chart = format_marker(chart, 0, i, RGBColor.from_string(\"FFFFFF\"), col_actual)\n",
    "\n",
    "    # format Forecast line\n",
    "    brght_forecast = 0.25\n",
    "\n",
    "    chart.series[1].format.line.dash_style = MSO_LINE_DASH_STYLE.DASH\n",
    "    chart.series[1].format.line.width = Pt(2.5)\n",
    "    chart.series[1].format.line.color.rgb = col_actual\n",
    "    chart.series[1].format.line.color.brightness = brght_forecast\n",
    "\n",
    "    j = len(chart.series[1].points) - 1\n",
    "    chart = format_marker(chart, 1, j, col_actual, col_actual)\n",
    "    \n",
    "    return chart"
   ]
  },
  {
   "cell_type": "code",
   "execution_count": 78,
   "metadata": {},
   "outputs": [],
   "source": [
    "chart = format_graph(chart)"
   ]
  },
  {
   "cell_type": "code",
   "execution_count": 80,
   "metadata": {},
   "outputs": [],
   "source": [
    "prs.save('../doc/forecast.pptx')"
   ]
  },
  {
   "cell_type": "code",
   "execution_count": null,
   "metadata": {},
   "outputs": [],
   "source": []
  }
 ],
 "metadata": {
  "kernelspec": {
   "display_name": "med_tracking",
   "language": "python",
   "name": "med_tracking"
  },
  "language_info": {
   "codemirror_mode": {
    "name": "ipython",
    "version": 3
   },
   "file_extension": ".py",
   "mimetype": "text/x-python",
   "name": "python",
   "nbconvert_exporter": "python",
   "pygments_lexer": "ipython3",
   "version": "3.7.3"
  }
 },
 "nbformat": 4,
 "nbformat_minor": 4
}
